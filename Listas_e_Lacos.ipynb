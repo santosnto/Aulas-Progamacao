{
  "nbformat": 4,
  "nbformat_minor": 0,
  "metadata": {
    "colab": {
      "provenance": [],
      "authorship_tag": "ABX9TyPmU68tsWWYI/mbrW5GynU6",
      "include_colab_link": true
    },
    "kernelspec": {
      "name": "python3",
      "display_name": "Python 3"
    },
    "language_info": {
      "name": "python"
    }
  },
  "cells": [
    {
      "cell_type": "markdown",
      "metadata": {
        "id": "view-in-github",
        "colab_type": "text"
      },
      "source": [
        "<a href=\"https://colab.research.google.com/github/santosnto/Aulas-Progamacao/blob/main/Listas_e_Lacos.ipynb\" target=\"_parent\"><img src=\"https://colab.research.google.com/assets/colab-badge.svg\" alt=\"Open In Colab\"/></a>"
      ]
    },
    {
      "cell_type": "code",
      "execution_count": 9,
      "metadata": {
        "colab": {
          "base_uri": "https://localhost:8080/"
        },
        "id": "OUyu_pEl5x6u",
        "outputId": "e719b6f9-73ec-4a19-f71d-adfb71199a42"
      },
      "outputs": [
        {
          "output_type": "execute_result",
          "data": {
            "text/plain": [
              "(25, 4, 3, 6, 9)"
            ]
          },
          "metadata": {},
          "execution_count": 9
        }
      ],
      "source": [
        "#Listas são estruturas de dados formadas por elementos de um mesmo tipo.\n",
        "\n",
        "Numeros = [25, 4, 3, 6, 9]\n",
        "Numeros"
      ]
    },
    {
      "cell_type": "code",
      "source": [
        "#tamanho de uma lista\n",
        "len(Numeros)"
      ],
      "metadata": {
        "colab": {
          "base_uri": "https://localhost:8080/"
        },
        "id": "EosOquuH64Pe",
        "outputId": "fd585170-f97f-43a0-e669-453bd915b8e6"
      },
      "execution_count": 11,
      "outputs": [
        {
          "output_type": "execute_result",
          "data": {
            "text/plain": [
              "5"
            ]
          },
          "metadata": {},
          "execution_count": 11
        }
      ]
    },
    {
      "cell_type": "code",
      "source": [
        "#Indices - Posição dos Números - [25, 4, 3, 6, 9]\n",
        "\n",
        "print(Numeros[0])\n",
        "print(Numeros[1])\n",
        "print(Numeros[2])\n",
        "print(Numeros[3])\n",
        "print(Numeros[4])\n"
      ],
      "metadata": {
        "colab": {
          "base_uri": "https://localhost:8080/"
        },
        "id": "JSEPRLAA8QVd",
        "outputId": "27e1d9ec-81dc-4149-d41f-5f8d286125d9"
      },
      "execution_count": 13,
      "outputs": [
        {
          "output_type": "stream",
          "name": "stdout",
          "text": [
            "25\n",
            "4\n",
            "3\n",
            "6\n",
            "9\n"
          ]
        }
      ]
    },
    {
      "cell_type": "code",
      "source": [
        "#Listas de outros tipos\n",
        "alunos = ['Mariana', 'Luiz', 'Higor', 'Enzo', 'Valentina']\n",
        "alunos"
      ],
      "metadata": {
        "colab": {
          "base_uri": "https://localhost:8080/"
        },
        "id": "-GZA-gXC-CAX",
        "outputId": "46fcd84e-52e7-4bd5-9861-9ea62c653094"
      },
      "execution_count": 14,
      "outputs": [
        {
          "output_type": "execute_result",
          "data": {
            "text/plain": [
              "['Mariana', 'Luiz', 'Higor', 'Enzo', 'Valentina']"
            ]
          },
          "metadata": {},
          "execution_count": 14
        }
      ]
    },
    {
      "cell_type": "code",
      "source": [
        "#Alterar os Valores de itens de lista\n",
        "alunos[3] = 'Ivan'\n",
        "alunos"
      ],
      "metadata": {
        "colab": {
          "base_uri": "https://localhost:8080/"
        },
        "id": "S-t0OkmQ-UnA",
        "outputId": "5444665b-0c5b-49ec-bdd2-a1110cf018f5"
      },
      "execution_count": 15,
      "outputs": [
        {
          "output_type": "execute_result",
          "data": {
            "text/plain": [
              "['Mariana', 'Luiz', 'Higor', 'Ivan', 'Valentina']"
            ]
          },
          "metadata": {},
          "execution_count": 15
        }
      ]
    },
    {
      "cell_type": "code",
      "source": [
        "#Inserir Valores na Lista - Usar alunos.append()\n",
        "\n",
        "alunos.append('Moacir')\n",
        "alunos"
      ],
      "metadata": {
        "colab": {
          "base_uri": "https://localhost:8080/"
        },
        "id": "KeR5b3xn_F8q",
        "outputId": "629c11c9-05ec-41da-95d2-0d2f3d898bca"
      },
      "execution_count": 16,
      "outputs": [
        {
          "output_type": "execute_result",
          "data": {
            "text/plain": [
              "['Mariana', 'Luiz', 'Higor', 'Ivan', 'Valentina', 'Moacir']"
            ]
          },
          "metadata": {},
          "execution_count": 16
        }
      ]
    },
    {
      "cell_type": "code",
      "source": [
        "#Inserir Na Lista Via Campo de Digitação\n",
        "\n",
        "alunos.append(input('Digite seu Nome: '))"
      ],
      "metadata": {
        "colab": {
          "base_uri": "https://localhost:8080/"
        },
        "id": "5to2BUFP_itJ",
        "outputId": "197498f3-18d9-4dfa-897a-ed34d37bbd92"
      },
      "execution_count": 19,
      "outputs": [
        {
          "name": "stdout",
          "output_type": "stream",
          "text": [
            "Digite seu Nome: Cammon\n"
          ]
        }
      ]
    },
    {
      "cell_type": "code",
      "source": [
        "#Para excluir nomes na Lista usar: alunos.pop\n",
        "alunos.pop()\n",
        "alunos"
      ],
      "metadata": {
        "colab": {
          "base_uri": "https://localhost:8080/"
        },
        "id": "8UHzEhhZ_6AJ",
        "outputId": "11e09811-6fcb-4a74-a9b9-03ba09852838"
      },
      "execution_count": 23,
      "outputs": [
        {
          "output_type": "execute_result",
          "data": {
            "text/plain": [
              "['Mariana', 'Luiz', 'Higor', 'Ivan', 'Valentina', 'Moacir']"
            ]
          },
          "metadata": {},
          "execution_count": 23
        }
      ]
    }
  ]
}