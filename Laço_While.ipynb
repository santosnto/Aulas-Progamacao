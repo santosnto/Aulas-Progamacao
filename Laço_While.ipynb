{
  "nbformat": 4,
  "nbformat_minor": 0,
  "metadata": {
    "colab": {
      "provenance": [],
      "authorship_tag": "ABX9TyMXdYbsfKXuCmwLpxL3qbAt",
      "include_colab_link": true
    },
    "kernelspec": {
      "name": "python3",
      "display_name": "Python 3"
    },
    "language_info": {
      "name": "python"
    }
  },
  "cells": [
    {
      "cell_type": "markdown",
      "metadata": {
        "id": "view-in-github",
        "colab_type": "text"
      },
      "source": [
        "<a href=\"https://colab.research.google.com/github/santosnto/Aulas-Progamacao/blob/main/La%C3%A7o_While.ipynb\" target=\"_parent\"><img src=\"https://colab.research.google.com/assets/colab-badge.svg\" alt=\"Open In Colab\"/></a>"
      ]
    },
    {
      "cell_type": "code",
      "execution_count": null,
      "metadata": {
        "colab": {
          "base_uri": "https://localhost:8080/"
        },
        "id": "ZjoTVFEC8ayx",
        "outputId": "d68f9ce7-9c22-49e9-dd2d-6a739209578e"
      },
      "outputs": [
        {
          "output_type": "stream",
          "name": "stdout",
          "text": [
            "1\n",
            "2\n",
            "3\n",
            "4\n",
            "5\n",
            "6\n",
            "7\n",
            "8\n",
            "9\n",
            "10\n"
          ]
        }
      ],
      "source": [
        "#CRIAR UM PROGAMA QUE LISTA OS NÚMEROS DE 1 A 10\n",
        "## PRECISAMOS DE UMA CONTADOS!\n",
        "\n",
        "cont = 0\n",
        "\n",
        "while (cont < 10):\n",
        "  print (cont +1)\n",
        "  cont += 1"
      ]
    },
    {
      "cell_type": "code",
      "source": [
        "#PEDE AO USUÁRIO PARA INSERIR UM NÚMERO INTEIRO MAIOR QUE 1\n",
        "#O PROGAMA DEVE IMPRIMIR TODOS OS NÚMEROS POSITIVOS ATÉ O NÚMERO DIGITADO.\n",
        "\n",
        "cont = 0\n",
        "numero= int(input('Digite um Número!' ))\n",
        "\n",
        "while (cont <= numero):\n",
        "  print(cont)\n",
        "  cont +=1\n",
        "\n"
      ],
      "metadata": {
        "id": "7r-_UrSI-p_v",
        "colab": {
          "base_uri": "https://localhost:8080/"
        },
        "outputId": "dd2fac8a-7c4e-487e-8b3b-dc8ed3806ec0"
      },
      "execution_count": 3,
      "outputs": [
        {
          "output_type": "stream",
          "name": "stdout",
          "text": [
            "Digite um Número!0\n",
            "0\n"
          ]
        }
      ]
    },
    {
      "cell_type": "code",
      "source": [
        "numero = int(input('Digite um número'))\n",
        "\n",
        "for i in range(1, numero+1):\n",
        "    print(i)"
      ],
      "metadata": {
        "colab": {
          "base_uri": "https://localhost:8080/"
        },
        "id": "C60cYquSANxX",
        "outputId": "43995597-d580-4c65-8b0c-8db4790c2504"
      },
      "execution_count": 4,
      "outputs": [
        {
          "name": "stdout",
          "output_type": "stream",
          "text": [
            "Digite um número0\n"
          ]
        }
      ]
    },
    {
      "cell_type": "code",
      "source": [
        "#CRIAR UMA LISTA DE COMPRAS QUANDO DIGITAR 0 ENCERRA A LISTA\n",
        "\n",
        "lista_de_compras = []\n",
        "\n",
        "while True:\n",
        "    item = input(\"Digite um item de compra (ou 0 para sair): \")\n",
        "    if item == \"0\":\n",
        "        break\n",
        "    lista_de_compras.append(item)\n",
        "\n",
        "print(\"Sua lista de compras:\")\n",
        "for item in lista_de_compras:\n",
        "    print(item)"
      ],
      "metadata": {
        "id": "-_xm3tVCCPi_"
      },
      "execution_count": null,
      "outputs": []
    },
    {
      "cell_type": "code",
      "source": [
        "#CRIAR UMA LISTA DE COMPRAS QUANDO DIGITAR 0 ENCERRA A LISTA\n",
        "\n",
        "lista_de_compras = []\n",
        "item = input('Digite um item de compra (ou 0 para sair): ')\n",
        "\n",
        "while (item != '0'):\n",
        "  lista_de_compras.append(item)\n",
        "  item = input('Digite um item de compra (ou 0 para sair):' )\n",
        "\n",
        "lista_de_compras"
      ],
      "metadata": {
        "id": "dMcZf8-HChLO"
      },
      "execution_count": null,
      "outputs": []
    }
  ]
}