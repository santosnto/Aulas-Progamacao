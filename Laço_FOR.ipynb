{
  "nbformat": 4,
  "nbformat_minor": 0,
  "metadata": {
    "colab": {
      "provenance": [],
      "authorship_tag": "ABX9TyMScMaACV86I9jSyFlunSfV",
      "include_colab_link": true
    },
    "kernelspec": {
      "name": "python3",
      "display_name": "Python 3"
    },
    "language_info": {
      "name": "python"
    }
  },
  "cells": [
    {
      "cell_type": "markdown",
      "metadata": {
        "id": "view-in-github",
        "colab_type": "text"
      },
      "source": [
        "<a href=\"https://colab.research.google.com/github/santosnto/Aulas-Progamacao/blob/main/La%C3%A7o_FOR.ipynb\" target=\"_parent\"><img src=\"https://colab.research.google.com/assets/colab-badge.svg\" alt=\"Open In Colab\"/></a>"
      ]
    },
    {
      "cell_type": "code",
      "execution_count": 23,
      "metadata": {
        "colab": {
          "base_uri": "https://localhost:8080/"
        },
        "id": "REJ062LWvEu9",
        "outputId": "d4dfd4aa-9e5b-4dfb-ead0-077544ffc221"
      },
      "outputs": [
        {
          "output_type": "execute_result",
          "data": {
            "text/plain": [
              "[0, 1, 2, 3, 4, 5, 6, 7, 8, 9, 10, 11, 12, 13, 14]"
            ]
          },
          "metadata": {},
          "execution_count": 23
        }
      ],
      "source": [
        "#CRIAR UMA LISTA COM NUMEROS DE 1 A 15\n",
        "\n",
        "numeros = []\n",
        "for num in range(15):\n",
        "  numeros.append(num)\n",
        " \n",
        "\n",
        "numeros"
      ]
    },
    {
      "cell_type": "code",
      "source": [
        "#PARA USAR A BIBLIOTECAR *RANDOM*, É PRECISO IMPORTÁ-LA\n",
        "import random\n",
        "\n",
        "#CRIAR UMA LISTA COM TAMANHO ALEATÓRIO (ENTRE 0 E 50)\n",
        "\n",
        "nums2 = []\n",
        "for num in range(random.randrange(0,50)):\n",
        "  nums2.append(num)\n",
        "\n",
        "nums2"
      ],
      "metadata": {
        "colab": {
          "base_uri": "https://localhost:8080/"
        },
        "id": "0yxlJI2VwO2F",
        "outputId": "f485bf4d-1a27-4b3d-8060-cf1a5c2c1c59"
      },
      "execution_count": 15,
      "outputs": [
        {
          "output_type": "execute_result",
          "data": {
            "text/plain": [
              "[0]"
            ]
          },
          "metadata": {},
          "execution_count": 15
        }
      ]
    },
    {
      "cell_type": "code",
      "source": [
        "#(PARENTESIS) DESCOBIR SE UM NÚMERO É PAR OU IMPAR - (% = MOD = RESTO DA DIVISÃO)\n",
        "\n",
        "a= int(input('Digite um Número!' ))\n",
        "if a%2 == 0:\n",
        "  print('É Par')\n",
        "else:\n",
        "  print('É Impar')"
      ],
      "metadata": {
        "colab": {
          "base_uri": "https://localhost:8080/"
        },
        "id": "kLfRJX-xy4uq",
        "outputId": "0fb33900-4462-47be-eb72-66295e554da6"
      },
      "execution_count": 20,
      "outputs": [
        {
          "output_type": "stream",
          "name": "stdout",
          "text": [
            "Digite um Número!108\n",
            "É Par\n"
          ]
        }
      ]
    },
    {
      "cell_type": "code",
      "source": [
        "#PRINTAR OS NUMEROS PARES POSITIVOS ATÉ 50\n",
        "\n",
        "\n",
        "for numero in range(51):\n",
        "    if numero % 2 == 0:\n",
        "        print(numero)"
      ],
      "metadata": {
        "id": "eLmYyuUo1yJB"
      },
      "execution_count": null,
      "outputs": []
    },
    {
      "cell_type": "code",
      "source": [
        "#RETORNE A SOMA DOS NUMEROS DE 1 A 100\n",
        "\n",
        "soma = 0\n",
        "\n",
        "for n in range(101):\n",
        "  soma = soma+n\n",
        "\n",
        "soma"
      ],
      "metadata": {
        "colab": {
          "base_uri": "https://localhost:8080/"
        },
        "id": "VOFSgvlv3eaI",
        "outputId": "9e97cb13-28dc-44ba-a0c6-f4d55a483197"
      },
      "execution_count": 53,
      "outputs": [
        {
          "output_type": "execute_result",
          "data": {
            "text/plain": [
              "5050"
            ]
          },
          "metadata": {},
          "execution_count": 53
        }
      ]
    },
    {
      "cell_type": "code",
      "source": [
        "soma = sum(range(101))\n",
        "print(soma)"
      ],
      "metadata": {
        "colab": {
          "base_uri": "https://localhost:8080/"
        },
        "id": "hjExrkkx5KeW",
        "outputId": "1de204db-6c30-478c-ec61-432e17b0fea4"
      },
      "execution_count": 48,
      "outputs": [
        {
          "output_type": "stream",
          "name": "stdout",
          "text": [
            "5050\n"
          ]
        }
      ]
    }
  ]
}