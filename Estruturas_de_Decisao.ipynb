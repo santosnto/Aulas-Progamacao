{
  "nbformat": 4,
  "nbformat_minor": 0,
  "metadata": {
    "colab": {
      "provenance": [],
      "authorship_tag": "ABX9TyNIFYXCTx4Y599oBVHMXKYK",
      "include_colab_link": true
    },
    "kernelspec": {
      "name": "python3",
      "display_name": "Python 3"
    },
    "language_info": {
      "name": "python"
    }
  },
  "cells": [
    {
      "cell_type": "markdown",
      "metadata": {
        "id": "view-in-github",
        "colab_type": "text"
      },
      "source": [
        "<a href=\"https://colab.research.google.com/github/santosnto/Aulas-Progamacao/blob/main/Estruturas_de_Decisao.ipynb\" target=\"_parent\"><img src=\"https://colab.research.google.com/assets/colab-badge.svg\" alt=\"Open In Colab\"/></a>"
      ]
    },
    {
      "cell_type": "code",
      "execution_count": null,
      "metadata": {
        "colab": {
          "base_uri": "https://localhost:8080/"
        },
        "id": "pC_i5HHkk76T",
        "outputId": "8e302397-8590-4e1a-c63d-2988e313f842"
      },
      "outputs": [
        {
          "output_type": "stream",
          "name": "stdout",
          "text": [
            "132\n",
            "48\n",
            "3780\n",
            "2.142857142857143\n",
            "6\n"
          ]
        }
      ],
      "source": [
        "a = 90\n",
        "b = 42\n",
        "\n",
        "print (a+b)\n",
        "print (a-b)\n",
        "print (a*b)\n",
        "print (a/b)\n",
        "print (a%b)"
      ]
    },
    {
      "cell_type": "code",
      "source": [
        "idade = 19\n",
        "print ('Meu Nome é Moacir, Minha idade é:')"
      ],
      "metadata": {
        "colab": {
          "base_uri": "https://localhost:8080/",
          "height": 130
        },
        "id": "fUHZYQHnlRtM",
        "outputId": "68924bab-135e-4f95-9bde-d62bc725951d"
      },
      "execution_count": null,
      "outputs": [
        {
          "output_type": "error",
          "ename": "SyntaxError",
          "evalue": "ignored",
          "traceback": [
            "\u001b[0;36m  File \u001b[0;32m\"<ipython-input-47-bf0a0a44f915>\"\u001b[0;36m, line \u001b[0;32m2\u001b[0m\n\u001b[0;31m    print ('Meu Nome é Moacir, Minha idade é:' =idade)\u001b[0m\n\u001b[0m           ^\u001b[0m\n\u001b[0;31mSyntaxError\u001b[0m\u001b[0;31m:\u001b[0m expression cannot contain assignment, perhaps you meant \"==\"?\n"
          ]
        }
      ]
    },
    {
      "cell_type": "code",
      "source": [
        "nome = input('Digite seu Nome: ')\n",
        "print('Olá, '+nome)"
      ],
      "metadata": {
        "colab": {
          "base_uri": "https://localhost:8080/"
        },
        "id": "jKY7V9Djlsz7",
        "outputId": "6a4c3a9f-a5ae-498b-d6fc-27a740310b86"
      },
      "execution_count": null,
      "outputs": [
        {
          "output_type": "stream",
          "name": "stdout",
          "text": [
            "Digite seu Nome: Moacir\n",
            "Olá, Moacir\n"
          ]
        }
      ]
    },
    {
      "cell_type": "code",
      "source": [
        "#codigo para dizer a idade da pessoa\n",
        "anoNascim = input('Digite o Ano de Nascimento!')\n",
        "print('Sua idade é:' ,2023-int(anoNascim))"
      ],
      "metadata": {
        "colab": {
          "base_uri": "https://localhost:8080/"
        },
        "id": "qZ2ZgU3rmUNr",
        "outputId": "62fc8beb-6708-4ef6-e6aa-9e74fd064835"
      },
      "execution_count": null,
      "outputs": [
        {
          "output_type": "stream",
          "name": "stdout",
          "text": [
            "Digite o Ano de Nascimento!2003\n",
            "Sua idade é: 20\n"
          ]
        }
      ]
    },
    {
      "cell_type": "code",
      "source": [
        "#Solicita a Altura e o Peso de alguem, e retorna o IMC\n",
        "#IMC = peso / altura**2\n",
        "\n",
        "peso = float(input('Qual seu Peso?'))\n",
        "altura = float(input('Qual sua Altura?'))\n",
        "imc = peso/altura**2\n",
        "print('O IMC é', imc)"
      ],
      "metadata": {
        "colab": {
          "base_uri": "https://localhost:8080/"
        },
        "id": "677lLT_mmu2p",
        "outputId": "19a20187-1ee5-4e0b-b7ad-00ec786a4d8d"
      },
      "execution_count": null,
      "outputs": [
        {
          "output_type": "stream",
          "name": "stdout",
          "text": [
            "Qual seu Peso?107\n",
            "Qual sua Altura?1.90\n",
            "O IMC é 29.639889196675902\n"
          ]
        }
      ]
    },
    {
      "cell_type": "code",
      "source": [
        "#Verificas se um numero é par\n",
        "num = int(input('digite seu numero'))\n",
        "if(num%2 == 0):\n",
        "  print('O Número é Par')\n",
        "else:\n",
        "    print('O Número é Impar')"
      ],
      "metadata": {
        "colab": {
          "base_uri": "https://localhost:8080/"
        },
        "id": "Tz68Ue3PnnNq",
        "outputId": "af47d89e-585f-433a-9486-ce49cfa1cbee"
      },
      "execution_count": null,
      "outputs": [
        {
          "output_type": "stream",
          "name": "stdout",
          "text": [
            "digite seu numero105\n",
            "O Número é Impar\n"
          ]
        }
      ]
    },
    {
      "cell_type": "code",
      "source": [
        "#Tipos booleanos\n",
        "print(100== (50+50)) #igualdade\n",
        "print(100>= (50+50))\n",
        "print(100> (50+50))\n",
        "print "
      ],
      "metadata": {
        "colab": {
          "base_uri": "https://localhost:8080/"
        },
        "id": "vTwcT0xWo2zZ",
        "outputId": "6014951f-d657-47ea-bad7-eae3f2657c7a"
      },
      "execution_count": null,
      "outputs": [
        {
          "output_type": "stream",
          "name": "stdout",
          "text": [
            "True\n",
            "True\n"
          ]
        }
      ]
    },
    {
      "cell_type": "code",
      "source": [
        "# Se a idade for maior que 16, exiba: Pode tirar Habilitação\n",
        "\n",
        "idade = int(input('Digite a Idade: '))\n",
        "print(idade >= 16)\n",
        "if(idade >= 16):\n",
        "  print('Pode tirar Habilitação')\n",
        "else:\n",
        "  print('Ainda não, Major!!')"
      ],
      "metadata": {
        "colab": {
          "base_uri": "https://localhost:8080/"
        },
        "id": "ohv_l5eZpaWP",
        "outputId": "1be96805-f114-4de3-d3c5-b59eebf37252"
      },
      "execution_count": null,
      "outputs": [
        {
          "output_type": "stream",
          "name": "stdout",
          "text": [
            "Digite a Idade: 16\n",
            "True\n",
            "Pode tirar Habilitação\n"
          ]
        }
      ]
    },
    {
      "cell_type": "code",
      "source": [
        "# Se for do sexo feminino \"F\", e tiver 55 anos ou mais, pode se aponsentar\n",
        "# Se for do sexo Masculino \"M\", só se aposenta com 60 anos ou mais.\n",
        "sexo = 'M'\n",
        "idade = 55\n",
        "if(sexo == 'F' and idade >=55):\n",
        "   print('Pode se Aposentar!')\n",
        "elif(sexo == 'M' and idade >=60):\n",
        "  print ('Pode se Aposentar')\n",
        "else:\n",
        "  print('Não Pode se Aposentar!')"
      ],
      "metadata": {
        "colab": {
          "base_uri": "https://localhost:8080/"
        },
        "id": "9Yx7FRGAqbZ0",
        "outputId": "56ba4b5c-fc87-4e7c-a9e1-6da3801bfdda"
      },
      "execution_count": null,
      "outputs": [
        {
          "output_type": "stream",
          "name": "stdout",
          "text": [
            "Não Pode se Aposentar!\n"
          ]
        }
      ]
    },
    {
      "cell_type": "code",
      "source": [
        "#Versão II\n",
        "\n",
        "sexo = 'M'\n",
        "idade = 59\n",
        "if((sexo == 'F' and idade >=55) or (sexo == 'M' and idade >=60)):\n",
        "  print ('Pode se Aposentar')\n",
        "else:\n",
        "  print('Não Pode se Aposentar!')"
      ],
      "metadata": {
        "colab": {
          "base_uri": "https://localhost:8080/"
        },
        "id": "5heCJF4ts_-_",
        "outputId": "4a458625-3084-482a-873a-68e6e482f39f"
      },
      "execution_count": null,
      "outputs": [
        {
          "output_type": "stream",
          "name": "stdout",
          "text": [
            "Não Pode se Aposentar!\n"
          ]
        }
      ]
    },
    {
      "cell_type": "code",
      "source": [
        "#Versão III\n",
        "\n",
        "sexo = input('Insira seu Sexo, M (Masculino) ou F (Feminino): ')\n",
        "idade = int(input('Insira sua Idade: '))\n",
        "\n",
        "if((sexo == 'F' and idade >=55) or (sexo == 'M' and idade >=60)):\n",
        "  print ('Pode se Aposentar')\n",
        "else:\n",
        "  print('Não Pode se Aposentar!')"
      ],
      "metadata": {
        "colab": {
          "base_uri": "https://localhost:8080/"
        },
        "id": "QSqY9s6jveSO",
        "outputId": "663233b1-06e6-44e1-f4da-f6f77908cfae"
      },
      "execution_count": null,
      "outputs": [
        {
          "output_type": "stream",
          "name": "stdout",
          "text": [
            "Insira seu Sexo, M (Masculino) ou F (Feminino): Masculino\n",
            "Insira sua Idade: 55\n",
            "Não Pode se Aposentar!\n"
          ]
        }
      ]
    },
    {
      "cell_type": "code",
      "source": [
        "#Solicite três números A, B e C.\n",
        "#Imprima na tela se A=B é menor que C.\n",
        "\n",
        "A = int(input('Digite o Primeiro Número: '))\n",
        "B = int(input('Digite o Segundo Número: '))\n",
        "C = int(input('Digite o Terceiro Número: '))\n",
        "\n",
        "if((A+B)< C):\n",
        "  print('É Menor')\n",
        "else:\n",
        "  print('Não é Menor')\n",
        " "
      ],
      "metadata": {
        "colab": {
          "base_uri": "https://localhost:8080/"
        },
        "id": "EsLmfDL-v6q2",
        "outputId": "668cec18-6a0d-4a19-8b3c-caf9b03a2d65"
      },
      "execution_count": null,
      "outputs": [
        {
          "output_type": "stream",
          "name": "stdout",
          "text": [
            "Digite o Primeiro Número: 120\n",
            "Digite o Segundo Número: 150\n",
            "Digite o Terceiro Número: 2000\n",
            "É Menor\n"
          ]
        }
      ]
    },
    {
      "cell_type": "code",
      "source": [
        "#Escreva um algoritmo que recebe 2 valores inteiros\n",
        "#E escreve na tela qual é Maior\n",
        "\n",
        "A = int(input('Digite o Primeiro Número: '))\n",
        "B = int(input('Digite o Segundo Número: '))\n",
        "\n",
        "if(A>B):\n",
        "  print('Primeiro Número é Maior!')\n",
        "elif(B>A):\n",
        "  print('Segundo Número é Maior!')\n",
        "else:\n",
        "  print('Os Números são Iguais!')\n"
      ],
      "metadata": {
        "colab": {
          "base_uri": "https://localhost:8080/"
        },
        "id": "aGrEOkIay5Lu",
        "outputId": "835917ca-16f0-43e5-f4e8-fc41b7e563b4"
      },
      "execution_count": null,
      "outputs": [
        {
          "output_type": "stream",
          "name": "stdout",
          "text": [
            "Digite o Primeiro Número: 12\n",
            "Digite o Segundo Número: 12\n",
            "Os Números são Iguais!\n"
          ]
        }
      ]
    },
    {
      "cell_type": "code",
      "source": [],
      "metadata": {
        "id": "VLSa69DZ0V16"
      },
      "execution_count": null,
      "outputs": []
    }
  ]
}